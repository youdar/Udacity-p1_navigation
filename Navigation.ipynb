{
 "cells": [
  {
   "cell_type": "markdown",
   "metadata": {},
   "source": [
    "# Navigation\n",
    "\n",
    "---\n",
    "\n",
    "In this notebook, we will use the Unity ML-Agents environment \n",
    "for the first project of the [Deep Reinforcement Learning Nanodegree](https://www.udacity.com/course/deep-reinforcement-learning-nanodegree--nd893).\n",
    "\n",
    "Notes related to project are in the `README.md` file\n",
    "\n",
    "### 1. Start the Environment\n",
    "\n",
    "Importing some necessary packages.  \n",
    "If the code cell below returns an error, please revisit the project \n",
    "instructions to double-check that you have installed [Unity ML-Agents](https://github.com/Unity-Technologies/ml-agents/blob/master/docs/Installation.md) and [NumPy](http://www.numpy.org/)."
   ]
  },
  {
   "cell_type": "code",
   "execution_count": 1,
   "metadata": {
    "pycharm": {
     "is_executing": false
    }
   },
   "outputs": [],
   "source": [
    "from unityagents import UnityEnvironment\n",
    "from collections import deque\n",
    "import numpy as np\n",
    "import torch\n",
    "import sys\n",
    "import os\n",
    "\n",
    "import matplotlib.pyplot as plt\n",
    "%matplotlib inline\n",
    "\n",
    "LOCAL_PATH = '/Users/youval.dar/Documents/workspace/deep-reinforcement-learning/Udacity-p1_navigation'"
   ]
  },
  {
   "cell_type": "markdown",
   "metadata": {},
   "source": [
    "Start the environment!  \n",
    "**_Before running the code cell below_**, change the `file_name` parameter to match the location of the Unity environment that you downloaded.\n",
    "\n",
    "- **Mac**: `\"path/to/Banana.app\"`\n",
    "- **Windows** (x86): `\"path/to/Banana_Windows_x86/Banana.exe\"`\n",
    "- **Windows** (x86_64): `\"path/to/Banana_Windows_x86_64/Banana.exe\"`\n",
    "- **Linux** (x86): `\"path/to/Banana_Linux/Banana.x86\"`\n",
    "- **Linux** (x86_64): `\"path/to/Banana_Linux/Banana.x86_64\"`\n",
    "- **Linux** (x86, headless): `\"path/to/Banana_Linux_NoVis/Banana.x86\"`\n",
    "- **Linux** (x86_64, headless): `\"path/to/Banana_Linux_NoVis/Banana.x86_64\"`\n",
    "\n",
    "For instance, if you are using a Mac, then you downloaded `Banana.app`.  \n",
    "If this file is in the same folder as the notebook, then the line below should appear as follows:\n",
    "\n",
    "**Also** note that on Mac you might need to add the options `worker_id=2, seed=1` otherwise the app might freeze   \n",
    "```\n",
    "env = UnityEnvironment(file_name=\"Banana.app\", worker_id=2, seed=1)\n",
    "```"
   ]
  },
  {
   "cell_type": "markdown",
   "metadata": {},
   "source": [
    "### 2. Examine the State and Action Spaces"
   ]
  },
  {
   "cell_type": "code",
   "execution_count": 2,
   "metadata": {},
   "outputs": [
    {
     "name": "stderr",
     "output_type": "stream",
     "text": [
      "INFO:unityagents:\n",
      "'Academy' started successfully!\n",
      "Unity Academy name: Academy\n",
      "        Number of Brains: 1\n",
      "        Number of External Brains : 1\n",
      "        Lesson number : 0\n",
      "        Reset Parameters :\n",
      "\t\t\n",
      "Unity brain name: BananaBrain\n",
      "        Number of Visual Observations (per agent): 0\n",
      "        Vector Observation space type: continuous\n",
      "        Vector Observation space size (per agent): 37\n",
      "        Number of stacked Vector Observation: 1\n",
      "        Vector Action space type: discrete\n",
      "        Vector Action space size (per agent): 4\n",
      "        Vector Action descriptions: , , , \n"
     ]
    }
   ],
   "source": [
    "env = UnityEnvironment(file_name=os.path.join(LOCAL_PATH,\"Banana.app\"),worker_id=2, seed=1)"
   ]
  },
  {
   "cell_type": "markdown",
   "metadata": {},
   "source": [
    "Environments contain **_brains_** which are responsible for deciding the actions of their associated agents. \n",
    "Here we check for the first brain available, and set it as the default brain we will be controlling from Python."
   ]
  },
  {
   "cell_type": "code",
   "execution_count": 3,
   "metadata": {},
   "outputs": [
    {
     "name": "stdout",
     "output_type": "stream",
     "text": [
      "Brain name: BananaBrain\n"
     ]
    }
   ],
   "source": [
    "# get the default brain\n",
    "brain_name = env.brain_names[0]\n",
    "print('Brain name:', brain_name)\n",
    "brain = env.brains[brain_name]"
   ]
  },
  {
   "cell_type": "markdown",
   "metadata": {},
   "source": [
    "\n",
    "The simulation contains a single agent that navigates a large environment.  \n",
    "At each time step, it has four actions at its disposal:\n",
    "- `0` - walk forward \n",
    "- `1` - walk backward\n",
    "- `2` - turn left\n",
    "- `3` - turn right\n",
    "\n",
    "The state space has `37` dimensions and contains the agent's velocity, along with ray-based perception of objects \n",
    "around agent's forward direction.  A reward of `+1` is provided for collecting a yellow banana, \n",
    "and a reward of `-1` is provided for collecting a blue banana. \n",
    "\n",
    "Run the code cell below to print some information about the environment."
   ]
  },
  {
   "cell_type": "code",
   "execution_count": 4,
   "metadata": {},
   "outputs": [
    {
     "name": "stdout",
     "output_type": "stream",
     "text": [
      "Number of agents: 1\n",
      "Number of actions: 4\n",
      "States look like: [0.         1.         0.         0.         0.27946243 0.\n",
      " 1.         0.         0.         0.74556106 0.         0.\n",
      " 1.         0.         0.48277503 0.         1.         0.\n",
      " 0.         0.30341193 0.         0.         1.         0.\n",
      " 0.46494457 0.         0.         1.         0.         0.08466676\n",
      " 0.         1.         0.         0.         0.95967758 0.\n",
      " 0.        ]\n",
      "States have length: 37\n"
     ]
    }
   ],
   "source": [
    "# reset the environment\n",
    "env_info = env.reset(train_mode=True)[brain_name]\n",
    "\n",
    "# number of agents in the environment\n",
    "print('Number of agents:', len(env_info.agents))\n",
    "\n",
    "# number of actions\n",
    "action_size = brain.vector_action_space_size\n",
    "print('Number of actions:', action_size)\n",
    "\n",
    "# examine the state space \n",
    "state = env_info.vector_observations[0]\n",
    "print('States look like:', state)\n",
    "state_size = len(state)\n",
    "print('States have length:', state_size)"
   ]
  },
  {
   "cell_type": "markdown",
   "metadata": {},
   "source": [
    "### Average games scores info when playing multiple using uniformly random action selection\n",
    "When using the Python API to control the agent and receive feedback from the environment,\n",
    "when the next cell run and selects an action (uniformly) at random we got average score of over 100 runs.  \n",
    "\n",
    "**_Note_** Change `n_episodes` to the number of random games you want to run"
   ]
  },
  {
   "cell_type": "code",
   "execution_count": null,
   "metadata": {},
   "outputs": [
    {
     "name": "stdout",
     "output_type": "stream",
     "text": [
      "1: Score: 0.0\n",
      "2: Score: 0.0\n",
      "3: Score: -1.0\n",
      "4: Score: 3.0\n",
      "5: Score: -3.0\n",
      "6: Score: 0.0\n",
      "7: Score: 1.0\n",
      "8: Score: 2.0\n"
     ]
    }
   ],
   "source": [
    "scores = []\n",
    "n_episodes = 10\n",
    "for i in range(n_episodes):\n",
    "    env_info = env.reset(train_mode=False)[brain_name] # reset the environment\n",
    "    state = env_info.vector_observations[0]            # get the current state\n",
    "    score = 0                                          # initialize the score\n",
    "    done = False                                       # episode finished\n",
    "    while not done:\n",
    "        action = np.random.randint(action_size)        # select an action\n",
    "        env_info = env.step(action)[brain_name]        # send the action to the environment\n",
    "        next_state = env_info.vector_observations[0]   # get the next state\n",
    "        reward = env_info.rewards[0]                   # get the reward\n",
    "        done = env_info.local_done[0]                  # see if episode has finished\n",
    "        score += reward                                # update the score\n",
    "        state = next_state                             # roll over the state to next time step\n",
    "    \n",
    "    print(\"{}: Score: {}\".format(i+1, score))\n",
    "    sys.stdout.flush()\n",
    "    scores.append(score)\n",
    "    \n",
    "# Print games summary\n",
    "scores = np.array(scores)\n",
    "print('Uniformly random action')\n",
    "print('-----------------------')\n",
    "print('Avg score:',np.average(scores) )\n",
    "print('Min score:', np.min(scores))\n",
    "print('Max score:', np.max(scores))\n",
    "print('Median score:', np.median(scores))"
   ]
  },
  {
   "cell_type": "markdown",
   "metadata": {
    "pycharm": {
     "name": "#%% md\n"
    }
   },
   "source": [
    "In one of teh past random runs, for 10 games we got:\n",
    "* Avg score: 0.2\n",
    "* Min score: -1.0\n",
    "* Max score: 1.0\n",
    "* Median score: 0.0"
   ]
  },
  {
   "cell_type": "code",
   "execution_count": null,
   "metadata": {
    "pycharm": {
     "name": "#%%\n"
    }
   },
   "outputs": [],
   "source": [
    "env.close()"
   ]
  },
  {
   "cell_type": "markdown",
   "metadata": {
    "pycharm": {
     "name": "#%% md\n"
    }
   },
   "source": [
    "### Using RL to play better...\n",
    "\n",
    "In the next few cells we will:  \n",
    "- Improve model using experience from playing the game\n",
    "- Save the model \n",
    "- Collect number of games score average (and compare to the average score we got when using random action)  "
   ]
  },
  {
   "cell_type": "code",
   "execution_count": 3,
   "metadata": {
    "pycharm": {
     "name": "#%%\n"
    }
   },
   "outputs": [],
   "source": [
    "# Import tools \n",
    "# from Navigation_tools import BananaGame\n",
    "\n",
    "from dqn_agent import Agent\n",
    "LOCAL_PATH = '/Users/youval.dar/Documents/workspace/deep-reinforcement-learning/Udacity-p1_navigation'"
   ]
  },
  {
   "cell_type": "code",
   "execution_count": 4,
   "metadata": {},
   "outputs": [],
   "source": [
    "class BananaGame():\n",
    "\n",
    "    def __init__(self):\n",
    "        self.env = None\n",
    "        self.brain = None\n",
    "        self.brain_name = None\n",
    "        self.agent = None\n",
    "\n",
    "    def start_env(self):\n",
    "        self.env = UnityEnvironment(file_name=os.path.join(LOCAL_PATH, \"Banana.app\"), worker_id=2, seed=1)\n",
    "        self.brain_name = self.env.brain_names[0]\n",
    "        self.brain = self.env.brains[self.brain_name]\n",
    "        return self.env\n",
    "\n",
    "    @staticmethod\n",
    "    def print_scores_stats(scores):\n",
    "        \"\"\"\n",
    "        Prints basic states of data in the list \"scores\"\n",
    "\n",
    "        Args:\n",
    "            scores (list): list of scores\n",
    "        \"\"\"\n",
    "        scores = np.array(scores)\n",
    "        print('Actions info')\n",
    "        print('-----------------------')\n",
    "        print('Avg score: {:.2f}'.format(np.average(scores)))\n",
    "        print('Min score:', np.min(scores))\n",
    "        print('Max score:', np.max(scores))\n",
    "        print('Median score:', np.median(scores))\n",
    "\n",
    "    def uniform_random(self, n_episodes=10):\n",
    "        env = self.start_env()\n",
    "        print('Brain name:', self.brain_name)\n",
    "        env_info = env.reset(train_mode=True)[self.brain_name]\n",
    "\n",
    "        # number of agents in the environment\n",
    "        print('Number of agents:', len(env_info.agents))\n",
    "        # number of actions\n",
    "        action_size = self.brain.vector_action_space_size\n",
    "        print('Number of actions:', action_size)\n",
    "        # examine the state space\n",
    "        state = env_info.vector_observations[0]\n",
    "        print('States look like:', state)\n",
    "        state_size = len(state)\n",
    "        print('States have length:', state_size)\n",
    "\n",
    "        scores = []\n",
    "        for i in range(n_episodes):\n",
    "            print('Game:', i + 1)\n",
    "            env_info = env.reset(train_mode=False)[self.brain_name]  # reset the environment\n",
    "            state = env_info.vector_observations[0]  # get the current state\n",
    "            score = 0  # initialize the score\n",
    "            done = False  # episode finished\n",
    "            while not done:\n",
    "                action = np.random.randint(action_size)  # select an action\n",
    "                env_info = env.step(action)[self.brain_name]  # send the action to the environment\n",
    "                next_state = env_info.vector_observations[0]  # get the next state\n",
    "                reward = env_info.rewards[0]  # get the reward\n",
    "                done = env_info.local_done[0]  # see if episode has finished\n",
    "                score += reward  # update the score\n",
    "                state = next_state  # roll over the state to next time step\n",
    "\n",
    "            print(\"{}: Score: {}\".format(i + 1, score))\n",
    "            sys.stdout.flush()\n",
    "            scores.append(score)\n",
    "\n",
    "        # Print games summary\n",
    "        self.print_scores_stats(scores)\n",
    "        self.env.close()\n",
    "\n",
    "    def training_model(self, model_num=1):\n",
    "        # Using DQN from the file dqn_agent.py\n",
    "        env = self.start_env()\n",
    "\n",
    "        # reset the environment\n",
    "        env_info = env.reset(train_mode=True)[self.brain_name]\n",
    "        state = env_info.vector_observations[0]\n",
    "        state_size = len(state)\n",
    "        action_size = self.brain.vector_action_space_size\n",
    "\n",
    "        # Set agent params\n",
    "        agent = Agent(\n",
    "            state_size=state_size,\n",
    "            action_size=action_size,\n",
    "            seed=0,\n",
    "            model_num=model_num)\n",
    "\n",
    "        scores = self.dqn(agent, model_num=model_num)\n",
    "        self.env.close()\n",
    "        return scores\n",
    "\n",
    "    def dqn(self, agent, n_episodes=2000, max_t=1000, eps_start=1.0, eps_end=0.01, eps_decay=0.995, model_num=1):\n",
    "        \"\"\"Deep Q-Learning.\n",
    "\n",
    "        Params\n",
    "        ======\n",
    "            n_episodes (int): maximum number of training episodes\n",
    "            max_t (int): maximum number of timesteps per episode\n",
    "            eps_start (float): starting value of epsilon, for epsilon-greedy action selection\n",
    "            eps_end (float): minimum value of epsilon\n",
    "            eps_decay (float): multiplicative factor (per episode) for decreasing epsilon\n",
    "        \"\"\"\n",
    "        scores = []  # list containing scores from each episode\n",
    "        scores_window = deque(maxlen=100)  # last 100 scores\n",
    "        eps = eps_start  # initialize epsilon\n",
    "        for i_episode in range(1, n_episodes + 1):\n",
    "            env_info = self.env.reset(train_mode=False)[self.brain_name]\n",
    "            state = env_info.vector_observations[0]\n",
    "            score = 0\n",
    "            for t in range(max_t):\n",
    "                action = agent.act(state, eps)\n",
    "                env_info = self.env.step(action)[self.brain_name]  # send the action to the environment\n",
    "                next_state = env_info.vector_observations[0]  # get the next state\n",
    "                reward = env_info.rewards[0]  # get the reward\n",
    "                done = env_info.local_done[0]\n",
    "                agent.step(state, action, reward, next_state, done)\n",
    "                state = next_state\n",
    "                score += reward\n",
    "                if done:\n",
    "                    break\n",
    "            scores_window.append(score)  # save most recent score\n",
    "            scores.append(score)  # save most recent score\n",
    "            eps = max(eps_end, eps_decay * eps)  # decrease epsilon\n",
    "            print('\\rEpisode {}\\tAverage Score: {:.2f}'.format(i_episode, np.mean(scores_window)), end=\"\")\n",
    "            if i_episode % 100 == 0:\n",
    "                print('\\rEpisode {}\\tAverage Score: {:.2f}'.format(i_episode, np.mean(scores_window)))\n",
    "            if np.mean(scores_window) >= 15.5:\n",
    "                str_out = '\\nEnvironment solved in {:d} episodes!\\tAverage Score: {:.2f}'\n",
    "                print(str_out.format(i_episode - 100, np.mean(scores_window)))\n",
    "\n",
    "                if model_num == 1:\n",
    "                    fn = 'checkpoint.pth'\n",
    "                else:\n",
    "                    fn = 'checkpoint_dropout.pth'\n",
    "                fn = os.path.join(LOCAL_PATH, fn)\n",
    "                torch.save(agent.qnetwork_local.state_dict(), fn)\n",
    "                break\n",
    "        return scores\n",
    "\n",
    "    def trained_model(self, n_episodes=10, model_num=1):\n",
    "        # reset the environment\n",
    "        env = self.start_env()\n",
    "        env_info = env.reset(train_mode=False)[self.brain_name]\n",
    "        state = env_info.vector_observations[0]\n",
    "        state_size = len(state)\n",
    "        action_size = self.brain.vector_action_space_size\n",
    "\n",
    "        # Set agent params\n",
    "        agent = Agent(\n",
    "            state_size=state_size,\n",
    "            action_size=action_size,\n",
    "            seed=0,\n",
    "            model_num=model_num)\n",
    "\n",
    "        # load the weights from file\n",
    "        if model_num == 1:\n",
    "            fn = 'checkpoint.pth'\n",
    "        else:\n",
    "            fn = 'checkpoint_dropout.pth'\n",
    "        fn = os.path.join(LOCAL_PATH, fn)\n",
    "        agent.qnetwork_local.load_state_dict(torch.load(fn))\n",
    "\n",
    "        scores = []\n",
    "        for i in range(n_episodes):\n",
    "            env_info = env.reset(train_mode=False)[self.brain_name]  # reset the environment\n",
    "            state = env_info.vector_observations[0]  # get the current state\n",
    "            score = 0  # initialize the score\n",
    "            done = False\n",
    "            while not done:\n",
    "                action = agent.act(state)\n",
    "                env_info = env.step(action)[self.brain_name]  # send the action to the environment\n",
    "                next_state = env_info.vector_observations[0]  # get the next state\n",
    "                reward = env_info.rewards[0]  # get the reward\n",
    "                done = env_info.local_done[0]  # see if episode has finished\n",
    "                score += reward  # update the score\n",
    "                state = next_state  # roll over the state to next time step\n",
    "\n",
    "            print(\"{}: Score: {}\".format(i + 1, score))\n",
    "            sys.stdout.flush()\n",
    "            scores.append(score)\n",
    "\n",
    "        # Print games summary\n",
    "        self.print_scores_stats(scores)\n",
    "        self.env.close()\n",
    "        return scores\n",
    "\n",
    "    def plot_scores(self, scores):\n",
    "        \"\"\"\n",
    "        plot the scores\n",
    "\n",
    "        Args:\n",
    "            scores (list): List of scores\n",
    "        \"\"\"\n",
    "        fig = plt.figure()\n",
    "        ax = fig.add_subplot(111)\n",
    "        plt.plot(np.arange(len(scores)), scores)\n",
    "        plt.ylabel('Score')\n",
    "        plt.xlabel('Episode #')\n",
    "        plt.show()\n"
   ]
  },
  {
   "cell_type": "code",
   "execution_count": 6,
   "metadata": {},
   "outputs": [],
   "source": [
    "o = BananaGame()"
   ]
  },
  {
   "cell_type": "markdown",
   "metadata": {},
   "source": [
    "#### Traing usign DQN with 3 linear layers (Model QNetwork in model.py)"
   ]
  },
  {
   "cell_type": "code",
   "execution_count": 11,
   "metadata": {},
   "outputs": [],
   "source": [
    "# To run the random model uncomment the line below\n",
    "# o.uniform_random(3)"
   ]
  },
  {
   "cell_type": "code",
   "execution_count": null,
   "metadata": {},
   "outputs": [],
   "source": [
    "# Train model (model will be saved to checkpoint.pth when average score gets to 15.5)\n",
    "scores = o.training_model(model_num=1)"
   ]
  },
  {
   "cell_type": "code",
   "execution_count": null,
   "metadata": {},
   "outputs": [],
   "source": [
    "# Ploting the scores\n",
    "# o.plot_scores(scores)"
   ]
  },
  {
   "cell_type": "markdown",
   "metadata": {},
   "source": [
    "#### Traing usign DQN with 3 larger linear layers and dropout layers (Model QNetwork2 in model.py)"
   ]
  },
  {
   "cell_type": "code",
   "execution_count": 5,
   "metadata": {},
   "outputs": [
    {
     "name": "stderr",
     "output_type": "stream",
     "text": [
      "INFO:unityagents:\n",
      "'Academy' started successfully!\n",
      "Unity Academy name: Academy\n",
      "        Number of Brains: 1\n",
      "        Number of External Brains : 1\n",
      "        Lesson number : 0\n",
      "        Reset Parameters :\n",
      "\t\t\n",
      "Unity brain name: BananaBrain\n",
      "        Number of Visual Observations (per agent): 0\n",
      "        Vector Observation space type: continuous\n",
      "        Vector Observation space size (per agent): 37\n",
      "        Number of stacked Vector Observation: 1\n",
      "        Vector Action space type: discrete\n",
      "        Vector Action space size (per agent): 4\n",
      "        Vector Action descriptions: , , , \n"
     ]
    },
    {
     "name": "stdout",
     "output_type": "stream",
     "text": [
      "Episode 2\tAverage Score: 0.50"
     ]
    }
   ],
   "source": [
    "# Train model (model will be saved to checkpoint.pth when average score gets to 15.5)\n",
    "scores = o.training_model(model_num=2)"
   ]
  },
  {
   "cell_type": "markdown",
   "metadata": {},
   "source": [
    "#### Run 100 using the DQN trained model\n",
    "\n",
    "__Past run info__   \n",
    "Avg score: 16.95   \n",
    "Min score: 0.0   \n",
    "Max score: 24.0   \n",
    "Median score: 17.0   \n",
    "\n",
    "![DQN Trained model](DQN_image.png)"
   ]
  },
  {
   "cell_type": "code",
   "execution_count": null,
   "metadata": {},
   "outputs": [],
   "source": [
    "scores = o.trained_model(100, model_num=1)\n",
    "o.plot_scores(scores)"
   ]
  },
  {
   "cell_type": "markdown",
   "metadata": {},
   "source": [
    "#### Run 100 using the DQN + Dropout trained model"
   ]
  },
  {
   "cell_type": "code",
   "execution_count": 7,
   "metadata": {},
   "outputs": [
    {
     "name": "stderr",
     "output_type": "stream",
     "text": [
      "INFO:unityagents:\n",
      "'Academy' started successfully!\n",
      "Unity Academy name: Academy\n",
      "        Number of Brains: 1\n",
      "        Number of External Brains : 1\n",
      "        Lesson number : 0\n",
      "        Reset Parameters :\n",
      "\t\t\n",
      "Unity brain name: BananaBrain\n",
      "        Number of Visual Observations (per agent): 0\n",
      "        Vector Observation space type: continuous\n",
      "        Vector Observation space size (per agent): 37\n",
      "        Number of stacked Vector Observation: 1\n",
      "        Vector Action space type: discrete\n",
      "        Vector Action space size (per agent): 4\n",
      "        Vector Action descriptions: , , , \n"
     ]
    },
    {
     "name": "stdout",
     "output_type": "stream",
     "text": [
      "1: Score: 13.0\n",
      "2: Score: 18.0\n",
      "3: Score: 15.0\n",
      "4: Score: 12.0\n",
      "5: Score: 15.0\n",
      "6: Score: 17.0\n",
      "7: Score: 14.0\n",
      "8: Score: 15.0\n",
      "9: Score: 19.0\n",
      "10: Score: 14.0\n",
      "11: Score: 14.0\n",
      "12: Score: 10.0\n",
      "13: Score: 17.0\n",
      "14: Score: 13.0\n",
      "15: Score: 10.0\n",
      "16: Score: 13.0\n",
      "17: Score: 14.0\n",
      "18: Score: 20.0\n",
      "19: Score: 16.0\n",
      "20: Score: 15.0\n",
      "21: Score: 16.0\n",
      "22: Score: 16.0\n",
      "23: Score: 19.0\n",
      "24: Score: 13.0\n",
      "25: Score: 18.0\n",
      "26: Score: 21.0\n",
      "27: Score: 14.0\n",
      "28: Score: 11.0\n",
      "29: Score: 16.0\n",
      "30: Score: 18.0\n",
      "31: Score: 17.0\n",
      "32: Score: 14.0\n",
      "33: Score: 15.0\n",
      "34: Score: 10.0\n",
      "35: Score: 14.0\n",
      "36: Score: 12.0\n",
      "37: Score: 15.0\n",
      "38: Score: 13.0\n",
      "39: Score: 19.0\n",
      "40: Score: 14.0\n",
      "41: Score: 17.0\n",
      "42: Score: 16.0\n",
      "43: Score: 21.0\n",
      "44: Score: 15.0\n",
      "45: Score: 14.0\n",
      "46: Score: 15.0\n",
      "47: Score: 17.0\n",
      "48: Score: 13.0\n",
      "49: Score: 22.0\n",
      "50: Score: 18.0\n",
      "51: Score: 13.0\n",
      "52: Score: 20.0\n",
      "53: Score: 13.0\n",
      "54: Score: 15.0\n",
      "55: Score: 18.0\n",
      "56: Score: 21.0\n",
      "57: Score: 21.0\n",
      "58: Score: 20.0\n",
      "59: Score: 22.0\n",
      "60: Score: 8.0\n",
      "61: Score: 10.0\n",
      "62: Score: 12.0\n",
      "63: Score: 17.0\n",
      "64: Score: 15.0\n",
      "65: Score: 20.0\n",
      "66: Score: 18.0\n",
      "67: Score: 11.0\n",
      "68: Score: 14.0\n",
      "69: Score: 15.0\n",
      "70: Score: 16.0\n",
      "71: Score: 13.0\n",
      "72: Score: 20.0\n",
      "73: Score: 20.0\n",
      "74: Score: 18.0\n",
      "75: Score: 21.0\n",
      "76: Score: 14.0\n",
      "77: Score: 16.0\n",
      "78: Score: 14.0\n",
      "79: Score: 17.0\n",
      "80: Score: 21.0\n",
      "81: Score: 15.0\n",
      "82: Score: 18.0\n",
      "83: Score: 14.0\n",
      "84: Score: 20.0\n",
      "85: Score: 14.0\n",
      "86: Score: 14.0\n",
      "87: Score: 19.0\n",
      "88: Score: 17.0\n",
      "89: Score: 16.0\n",
      "90: Score: 8.0\n",
      "91: Score: 18.0\n",
      "92: Score: 22.0\n",
      "93: Score: 20.0\n",
      "94: Score: 19.0\n",
      "95: Score: 16.0\n",
      "96: Score: 19.0\n",
      "97: Score: 18.0\n",
      "98: Score: 14.0\n",
      "99: Score: 18.0\n",
      "100: Score: 18.0\n",
      "Actions info\n",
      "-----------------------\n",
      "Avg score: 15.97\n",
      "Min score: 8.0\n",
      "Max score: 22.0\n",
      "Median score: 16.0\n"
     ]
    },
    {
     "data": {
      "image/png": "[encoded data removed]",
      "text/plain": [
       "<Figure size 432x288 with 1 Axes>"
      ]
     },
     "metadata": {
      "needs_background": "light"
     },
     "output_type": "display_data"
    }
   ],
   "source": [
    "scores = o.trained_model(100, model_num=2)\n",
    "o.plot_scores(scores)"
   ]
  },
  {
   "cell_type": "code",
   "execution_count": null,
   "metadata": {},
   "outputs": [],
   "source": []
  }
 ],
 "metadata": {
  "kernelspec": {
   "display_name": "drlnd",
   "language": "python",
   "name": "drlnd"
  },
  "language_info": {
   "codemirror_mode": {
    "name": "ipython",
    "version": 3
   },
   "file_extension": ".py",
   "mimetype": "text/x-python",
   "name": "python",
   "nbconvert_exporter": "python",
   "pygments_lexer": "ipython3",
   "version": "3.6.7"
  },
  "pycharm": {
   "stem_cell": {
    "cell_type": "raw",
    "metadata": {
     "collapsed": false
    },
    "source": []
   }
  }
 },
 "nbformat": 4,
 "nbformat_minor": 2
}
